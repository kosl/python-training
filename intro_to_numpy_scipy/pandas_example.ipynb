{
 "cells": [
  {
   "cell_type": "markdown",
   "metadata": {},
   "source": [
    "### Import the pandas module"
   ]
  },
  {
   "cell_type": "code",
   "execution_count": 1,
   "metadata": {
    "tags": []
   },
   "outputs": [
    {
     "name": "stderr",
     "output_type": "stream",
     "text": [
      "Error.  nthreads cannot be larger than environment variable \"NUMEXPR_MAX_THREADS\" (64)"
     ]
    },
    {
     "data": {
      "text/plain": [
       "\u001b[0;31mType:\u001b[0m        module\n",
       "\u001b[0;31mString form:\u001b[0m <module 'pandas' from '/apps/all/Anaconda3/2022.05/lib/python3.9/site-packages/pandas/__init__.py'>\n",
       "\u001b[0;31mFile:\u001b[0m        /apps/all/Anaconda3/2022.05/lib/python3.9/site-packages/pandas/__init__.py\n",
       "\u001b[0;31mDocstring:\u001b[0m  \n",
       "pandas - a powerful data analysis and manipulation library for Python\n",
       "=====================================================================\n",
       "\n",
       "**pandas** is a Python package providing fast, flexible, and expressive data\n",
       "structures designed to make working with \"relational\" or \"labeled\" data both\n",
       "easy and intuitive. It aims to be the fundamental high-level building block for\n",
       "doing practical, **real world** data analysis in Python. Additionally, it has\n",
       "the broader goal of becoming **the most powerful and flexible open source data\n",
       "analysis / manipulation tool available in any language**. It is already well on\n",
       "its way toward this goal.\n",
       "\n",
       "Main Features\n",
       "-------------\n",
       "Here are just a few of the things that pandas does well:\n",
       "\n",
       "  - Easy handling of missing data in floating point as well as non-floating\n",
       "    point data.\n",
       "  - Size mutability: columns can be inserted and deleted from DataFrame and\n",
       "    higher dimensional objects\n",
       "  - Automatic and explicit data alignment: objects can be explicitly aligned\n",
       "    to a set of labels, or the user can simply ignore the labels and let\n",
       "    `Series`, `DataFrame`, etc. automatically align the data for you in\n",
       "    computations.\n",
       "  - Powerful, flexible group by functionality to perform split-apply-combine\n",
       "    operations on data sets, for both aggregating and transforming data.\n",
       "  - Make it easy to convert ragged, differently-indexed data in other Python\n",
       "    and NumPy data structures into DataFrame objects.\n",
       "  - Intelligent label-based slicing, fancy indexing, and subsetting of large\n",
       "    data sets.\n",
       "  - Intuitive merging and joining data sets.\n",
       "  - Flexible reshaping and pivoting of data sets.\n",
       "  - Hierarchical labeling of axes (possible to have multiple labels per tick).\n",
       "  - Robust IO tools for loading data from flat files (CSV and delimited),\n",
       "    Excel files, databases, and saving/loading data from the ultrafast HDF5\n",
       "    format.\n",
       "  - Time series-specific functionality: date range generation and frequency\n",
       "    conversion, moving window statistics, date shifting and lagging.\n"
      ]
     },
     "metadata": {},
     "output_type": "display_data"
    }
   ],
   "source": [
    "import pandas as pd\n",
    "pd?"
   ]
  },
  {
   "cell_type": "code",
   "execution_count": 2,
   "metadata": {},
   "outputs": [],
   "source": [
    "file = \"TOP500_202306.xlsx\""
   ]
  },
  {
   "cell_type": "markdown",
   "metadata": {},
   "source": [
    "### Read the excelt file with ``pd.read_excel``"
   ]
  },
  {
   "cell_type": "code",
   "execution_count": 3,
   "metadata": {},
   "outputs": [],
   "source": [
    "ds = pd.read_excel(file)"
   ]
  },
  {
   "cell_type": "markdown",
   "metadata": {},
   "source": [
    "### View which columns there are in the excel spreadsheet by calling ds.columns or ds.keys"
   ]
  },
  {
   "cell_type": "code",
   "execution_count": 4,
   "metadata": {},
   "outputs": [
    {
     "data": {
      "text/plain": [
       "Index(['Rank', 'Previous Rank', 'First Appearance', 'First Rank', 'Name',\n",
       "       'Computer', 'Site', 'Manufacturer', 'Country', 'Year', 'Segment',\n",
       "       'Total Cores', 'Accelerator/Co-Processor Cores', 'Rmax [TFlop/s]',\n",
       "       'Rpeak [TFlop/s]', 'Nmax', 'Nhalf', 'HPCG [TFlop/s]', 'Power (kW)',\n",
       "       'Power Source', 'Energy Efficiency [GFlops/Watts]', 'Memory',\n",
       "       'Architecture', 'Processor', 'Processor Technology',\n",
       "       'Processor Speed (MHz)', 'Operating System', 'OS Family',\n",
       "       'Accelerator/Co-Processor', 'Cores per Socket', 'Processor Generation',\n",
       "       'System Model', 'System Family', 'Interconnect Family', 'Interconnect',\n",
       "       'Continent', 'Site ID', 'System ID'],\n",
       "      dtype='object')"
      ]
     },
     "execution_count": 4,
     "metadata": {},
     "output_type": "execute_result"
    }
   ],
   "source": [
    "ds.columns # or ds.keys()"
   ]
  },
  {
   "cell_type": "markdown",
   "metadata": {},
   "source": [
    "### We can easilly plot the contents of each column by first getting the column we wish, i.e. the ``Rmax [TFlop/s]`` and then simply calling calling ``plot`` on the data."
   ]
  },
  {
   "cell_type": "code",
   "execution_count": 5,
   "metadata": {},
   "outputs": [
    {
     "data": {
      "image/png": "[encoded data removed]",
      "text/plain": [
       "<Figure size 432x288 with 1 Axes>"
      ]
     },
     "metadata": {
      "needs_background": "light"
     },
     "output_type": "display_data"
    }
   ],
   "source": [
    "%matplotlib inline\n",
    "import matplotlib.pyplot as plt\n",
    "ds['Rmax [TFlop/s]'].plot()\n",
    "# If we wish to set labels, we can do that the following way\n",
    "plt.ylabel('Rmax [TFlop/s]')\n",
    "plt.xlabel('Rank')\n",
    "plt.grid()\n",
    "plt.show()"
   ]
  },
  {
   "cell_type": "code",
   "execution_count": 6,
   "metadata": {},
   "outputs": [
    {
     "data": {
      "image/png": "[encoded data removed]",
      "text/plain": [
       "<Figure size 432x288 with 1 Axes>"
      ]
     },
     "metadata": {
      "needs_background": "light"
     },
     "output_type": "display_data"
    }
   ],
   "source": [
    "ds['Rmax [TFlop/s]'].plot(kind='hist', bins=200)\n",
    "plt.xlabel('Rmax [TFlop/s]')\n",
    "plt.ylabel('Frequency')\n",
    "plt.title('Distribusion of flops per rank')\n",
    "plt.grid()\n",
    "plt.show()"
   ]
  },
  {
   "cell_type": "markdown",
   "metadata": {},
   "source": [
    "### To get list of processor used in HPC-s we can use the ``value_counts`` on the ``Processor Generation`` column."
   ]
  },
  {
   "cell_type": "code",
   "execution_count": 7,
   "metadata": {},
   "outputs": [
    {
     "data": {
      "text/plain": [
       "Xeon Gold (Skylake)                  99\n",
       "Xeon Gold 62xx (Cascade Lake)        91\n",
       "AMD Zen-2 (Rome)                     63\n",
       "AMD Zen-3 (Milan)                    58\n",
       "Xeon Platinum 82xx (Cascade Lake)    44\n",
       "Xeon Platinum 83xx (Ice Lake)        35\n",
       "Intel Xeon E5 (Broadwell)            23\n",
       "Xeon Platinum (Skylake)              23\n",
       "Intel Xeon E5 (Haswell)              12\n",
       "Intel Xeon E5 (IvyBridge)             7\n",
       "Intel Xeon Phi                        7\n",
       "IBM POWER9                            7\n",
       "Xeon Platinum (Sapphire Rapids)       6\n",
       "Fujitsu A64FX                         6\n",
       "Xeon Platinum 92xx (Cascade Lake)     6\n",
       "Vector Engine                         4\n",
       "Xeon Silver (Skylake)                 3\n",
       "Sunway                                1\n",
       "Hygon Dhyana                          1\n",
       "Xeon Gold (Sapphire Rapids)           1\n",
       "Xeon Gold 42xx (Cascade Lake)         1\n",
       "Xeon 5600-series (Westmere-EP)        1\n",
       "Intel Xeon E5 (SandyBridge)           1\n",
       "Name: Processor Generation, dtype: int64"
      ]
     },
     "execution_count": 7,
     "metadata": {},
     "output_type": "execute_result"
    }
   ],
   "source": [
    "ds['Processor Generation'].value_counts()"
   ]
  },
  {
   "cell_type": "markdown",
   "metadata": {},
   "source": [
    "Let's check how many HPCs contain NVIDIA coprocessors."
   ]
  },
  {
   "cell_type": "code",
   "execution_count": 8,
   "metadata": {},
   "outputs": [
    {
     "data": {
      "text/plain": [
       "None                                     315\n",
       "NVIDIA Tesla V100                         61\n",
       "NVIDIA A100                               27\n",
       "NVIDIA A100 SXM4 40 GB                    18\n",
       "AMD Instinct MI250X                       10\n",
       "NVIDIA Tesla V100 SXM2                    10\n",
       "NVIDIA Tesla A100 80G                     10\n",
       "NVIDIA Tesla A100 40G                      9\n",
       "NVIDIA A100 SXM4 80 GB                     7\n",
       "NVIDIA H100                                5\n",
       "NVIDIA Tesla P100                          5\n",
       "NVIDIA Volta GV100                         4\n",
       "NVIDIA A100 SXM4 64 GB                     2\n",
       "NVIDIA Tesla K40                           2\n",
       "Nvidia Volta V100                          1\n",
       "AMD Instinct MI210 64 GB                   1\n",
       "NVIDIA Tesla P100 NVLink                   1\n",
       "Deep Computing Processor                   1\n",
       "Matrix-2000                                1\n",
       "NVIDIA Tesla K20x                          1\n",
       "NVIDIA Tesla K40/Intel Xeon Phi 7120P      1\n",
       "NVIDIA Tesla K80                           1\n",
       "NVIDIA 2050                                1\n",
       "Intel Xeon Phi 5110P                       1\n",
       "NVIDIA Tesla K40m                          1\n",
       "Preferred Networks MN-Core                 1\n",
       "NVIDIA HGX A100 80GB 500W                  1\n",
       "Intel Xeon Phi 31S1P                       1\n",
       "PEZY-SC3                                   1\n",
       "Name: Accelerator/Co-Processor, dtype: int64"
      ]
     },
     "execution_count": 8,
     "metadata": {},
     "output_type": "execute_result"
    }
   ],
   "source": [
    "coprocessors = ds['Accelerator/Co-Processor']\n",
    "coprocessors.value_counts()"
   ]
  },
  {
   "cell_type": "code",
   "execution_count": 9,
   "metadata": {},
   "outputs": [
    {
     "name": "stdout",
     "output_type": "stream",
     "text": [
      "Number of HPCs that use NVIDIA coprocessors: 167\n",
      "Number of HPCs that use no coprocessors: 315\n",
      "Number of HPCs that use other brand of coprocessors: 18\n"
     ]
    }
   ],
   "source": [
    "NVIDIA_sum = 0\n",
    "None_sum = 0\n",
    "Other_sum = 0\n",
    "\n",
    "for key in coprocessors:\n",
    "    if 'NVIDIA' in key:\n",
    "        NVIDIA_sum += 1\n",
    "    elif key == 'None':\n",
    "        None_sum += 1\n",
    "\n",
    "Other_sum = 500 - None_sum - NVIDIA_sum\n",
    "print(f'Number of HPCs that use NVIDIA coprocessors: {NVIDIA_sum}')\n",
    "print(f'Number of HPCs that use no coprocessors: {None_sum}')\n",
    "print(f'Number of HPCs that use other brand of coprocessors: {Other_sum}')"
   ]
  },
  {
   "cell_type": "code",
   "execution_count": null,
   "metadata": {},
   "outputs": [],
   "source": []
  },
  {
   "cell_type": "code",
   "execution_count": null,
   "metadata": {},
   "outputs": [],
   "source": []
  }
 ],
 "metadata": {
  "kernelspec": {
   "display_name": "Python 3 (ipykernel)",
   "language": "python",
   "name": "python3"
  },
  "language_info": {
   "codemirror_mode": {
    "name": "ipython",
    "version": 3
   },
   "file_extension": ".py",
   "mimetype": "text/x-python",
   "name": "python",
   "nbconvert_exporter": "python",
   "pygments_lexer": "ipython3",
   "version": "3.9.12"
  }
 },
 "nbformat": 4,
 "nbformat_minor": 4
}
