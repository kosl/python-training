{
 "cells": [
  {
   "cell_type": "markdown",
   "metadata": {},
   "source": [
    "### Import the pandas module"
   ]
  },
  {
   "cell_type": "code",
   "execution_count": 1,
   "metadata": {},
   "outputs": [],
   "source": [
    "import pandas as pd\n",
    "pd?"
   ]
  },
  {
   "cell_type": "code",
   "execution_count": 2,
   "metadata": {},
   "outputs": [],
   "source": [
    "file = \"~/Downloads/TOP500_201906.xls\""
   ]
  },
  {
   "cell_type": "markdown",
   "metadata": {},
   "source": [
    "### Read the excelt file with ``pd.read_excel``"
   ]
  },
  {
   "cell_type": "code",
   "execution_count": 3,
   "metadata": {},
   "outputs": [],
   "source": [
    "ds = pd.read_excel(file)"
   ]
  },
  {
   "cell_type": "markdown",
   "metadata": {},
   "source": [
    "### View which columns there are in the excel spreadsheet by calling ds.columns or ds.keys"
   ]
  },
  {
   "cell_type": "code",
   "execution_count": 43,
   "metadata": {},
   "outputs": [
    {
     "data": {
      "text/plain": [
       "Index(['Rank', 'Previous Rank', 'First Appearance', 'First Rank', 'Name',\n",
       "       'Computer', 'Site', 'Manufacturer', 'Country', 'Year', 'Segment',\n",
       "       'Total Cores', 'Accelerator/Co-Processor Cores', 'Rmax [TFlop/s]',\n",
       "       'Rpeak [TFlop/s]', 'Nmax', 'Nhalf', 'HPCG [TFlop/s]', 'Power (kW)',\n",
       "       'Power Source', 'Power Effeciency [GFlops/Watts]', 'Architecture',\n",
       "       'Processor', 'Processor Technology', 'Processor Speed (MHz)',\n",
       "       'Operating System', 'OS Family', 'Accelerator/Co-Processor',\n",
       "       'Cores per Socket', 'Processor Generation', 'System Model',\n",
       "       'System Family', 'Interconnect Family', 'Interconnect', 'Region',\n",
       "       'Continent', 'Site ID', 'System ID'],\n",
       "      dtype='object')"
      ]
     },
     "execution_count": 43,
     "metadata": {},
     "output_type": "execute_result"
    }
   ],
   "source": [
    "ds.columns # or ds.keys()"
   ]
  },
  {
   "cell_type": "markdown",
   "metadata": {},
   "source": [
    "### We can easilly plot the contents of each column by first getting the column we wish, i.e. the ``Rmax [TFlop/s]`` and then simply calling calling ``plot`` on the data."
   ]
  },
  {
   "cell_type": "code",
   "execution_count": 75,
   "metadata": {},
   "outputs": [
    {
     "data": {
      "image/png": "[encoded data removed]",
      "text/plain": [
       "<Figure size 432x288 with 1 Axes>"
      ]
     },
     "metadata": {
      "needs_background": "light"
     },
     "output_type": "display_data"
    }
   ],
   "source": [
    "%matplotlib inline\n",
    "import matplotlib.pyplot as plt\n",
    "ds['Rmax [TFlop/s]'].plot()\n",
    "# If we wish to set labels, we can do that the following way\n",
    "plt.ylabel('Rmax [TFlop/s]')\n",
    "plt.xlabel('Rank')\n",
    "plt.grid()\n",
    "plt.show()"
   ]
  },
  {
   "cell_type": "code",
   "execution_count": 79,
   "metadata": {},
   "outputs": [
    {
     "data": {
      "image/png": "[encoded data removed]",
      "text/plain": [
       "<Figure size 432x288 with 1 Axes>"
      ]
     },
     "metadata": {
      "needs_background": "light"
     },
     "output_type": "display_data"
    }
   ],
   "source": [
    "ds['Rmax [TFlop/s]'].plot(kind='hist', bins=200)\n",
    "plt.xlabel('Rmax [TFlop/s]')\n",
    "plt.ylabel('Frequency')\n",
    "plt.title('Distribusion of flops per rank')\n",
    "plt.grid()\n",
    "plt.show()"
   ]
  },
  {
   "cell_type": "markdown",
   "metadata": {},
   "source": [
    "### To get list of processor used in HPC-s we can use the ``value_counts`` on the ``Processor Generation`` column."
   ]
  },
  {
   "cell_type": "code",
   "execution_count": 47,
   "metadata": {},
   "outputs": [
    {
     "data": {
      "text/plain": [
       "Intel Xeon E5 (Broadwell)            225\n",
       "Xeon Gold                            134\n",
       "Intel Xeon E5 (Haswell)               42\n",
       "Xeon Platinum                         24\n",
       "Intel Xeon Phi                        17\n",
       "Intel Xeon E5 (IvyBridge)             11\n",
       "Xeon Gold 62xx (Cascade Lake)          7\n",
       "Power BQC                              6\n",
       "IBM POWER9                             6\n",
       "Intel Xeon E5 (SandyBridge)            6\n",
       "Xeon Silver                            4\n",
       "Xeon 5600-series (Westmere-EP)         3\n",
       "SPARC64 XIfx                           3\n",
       "Opteron 6200 Series \"Interlagos\"       2\n",
       "Xeon Platinum 82xx (Cascade Lake)      2\n",
       "Intel Xeon E7 (Broadwell)              2\n",
       "Xeon 5500-series (Nehalem-EX)          1\n",
       "Hygon Dhyana                           1\n",
       "Sunway                                 1\n",
       "SPARC64 VIIIfx                         1\n",
       "POWER7                                 1\n",
       "Cavium ThunderX2                       1\n",
       "Name: Processor Generation, dtype: int64"
      ]
     },
     "execution_count": 47,
     "metadata": {},
     "output_type": "execute_result"
    }
   ],
   "source": [
    "ds['Processor Generation'].value_counts()"
   ]
  },
  {
   "cell_type": "markdown",
   "metadata": {},
   "source": [
    "Let's check how many HPCs contain NVIDIA coprocessors."
   ]
  },
  {
   "cell_type": "code",
   "execution_count": 86,
   "metadata": {},
   "outputs": [
    {
     "data": {
      "text/plain": [
       "None                                     366\n",
       "NVIDIA Tesla V100                         52\n",
       "NVIDIA Tesla P100                         47\n",
       "NVIDIA Tesla V100 SXM2                     7\n",
       "NVIDIA Tesla K20x                          4\n",
       "NVIDIA Tesla K80                           3\n",
       "NVIDIA Volta GV100                         3\n",
       "NVIDIA Tesla K40                           3\n",
       "NVIDIA Tesla P100 NVLink                   2\n",
       "Intel Xeon Phi 5120D                       2\n",
       "NVIDIA 2050                                2\n",
       "Deep Computing Processor                   1\n",
       "NVIDIA Tesla K20m                          1\n",
       "Intel Xeon Phi 31S1P                       1\n",
       "Intel Xeon Phi 5110P                       1\n",
       "NVIDIA Tesla K40/Intel Xeon Phi 7120P      1\n",
       "Intel Xeon Phi 7120P                       1\n",
       "NVIDIA Tesla P40                           1\n",
       "NVIDIA Tesla K40m                          1\n",
       "Matrix-2000                                1\n",
       "Name: Accelerator/Co-Processor, dtype: int64"
      ]
     },
     "execution_count": 86,
     "metadata": {},
     "output_type": "execute_result"
    }
   ],
   "source": [
    "coprocessors = ds['Accelerator/Co-Processor']\n",
    "coprocessors.value_counts()"
   ]
  },
  {
   "cell_type": "code",
   "execution_count": 87,
   "metadata": {},
   "outputs": [
    {
     "name": "stdout",
     "output_type": "stream",
     "text": [
      "Number of HPCs that use NVIDIA coprocessors: 127\n",
      "Number of HPCs that use no coprocessors: 366\n",
      "Number of HPCs that use other brand of coprocessors: 7\n"
     ]
    }
   ],
   "source": [
    "NVIDIA_sum = 0\n",
    "None_sum = 0\n",
    "Other_sum = 0\n",
    "\n",
    "for key in coprocessors:\n",
    "    if 'NVIDIA' in key:\n",
    "        NVIDIA_sum += 1\n",
    "    elif key == 'None':\n",
    "        None_sum += 1\n",
    "\n",
    "Other_sum = 500 - None_sum - NVIDIA_sum\n",
    "print(f'Number of HPCs that use NVIDIA coprocessors: {NVIDIA_sum}')\n",
    "print(f'Number of HPCs that use no coprocessors: {None_sum}')\n",
    "print(f'Number of HPCs that use other brand of coprocessors: {Other_sum}')"
   ]
  },
  {
   "cell_type": "code",
   "execution_count": null,
   "metadata": {},
   "outputs": [],
   "source": []
  }
 ],
 "metadata": {
  "kernelspec": {
   "display_name": "Python 3",
   "language": "python",
   "name": "python3"
  },
  "language_info": {
   "codemirror_mode": {
    "name": "ipython",
    "version": 3
   },
   "file_extension": ".py",
   "mimetype": "text/x-python",
   "name": "python",
   "nbconvert_exporter": "python",
   "pygments_lexer": "ipython3",
   "version": "3.7.3"
  }
 },
 "nbformat": 4,
 "nbformat_minor": 2
}
