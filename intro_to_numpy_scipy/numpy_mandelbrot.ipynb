{
 "cells": [
  {
   "cell_type": "markdown",
   "metadata": {},
   "source": [
    "# https://en.wikipedia.org/wiki/Mandelbrot_set\n",
    "\n",
    "The mandelbrot iteration:\n",
    "\n",
    "```python\n",
    "N_MAX = 50\n",
    "some_threshold = 50\n",
    "\n",
    "c = x + 1j*y\n",
    "\n",
    "z = 0\n",
    "for j in range(N_max):\n",
    "    z = z * z + c\n",
    "```\n",
    "Point(x,y) belongs to the mandelbrot set if |z| < ``some_threshold``"
   ]
  },
  {
   "cell_type": "code",
   "execution_count": 1,
   "metadata": {},
   "outputs": [],
   "source": [
    "import numpy as np"
   ]
  },
  {
   "cell_type": "markdown",
   "metadata": {},
   "source": [
    "1. Contruct a grid of c = x + 1j*y values in range [-2,1]x[1.5,1.5]"
   ]
  },
  {
   "cell_type": "code",
   "execution_count": 2,
   "metadata": {},
   "outputs": [],
   "source": [
    "W=480\n",
    "H=320\n",
    "\n",
    "x = np.linspace(-2, 1, H).reshape((1, H)) # One row\n",
    "y = np.linspace(-1.5, 1.5, W).reshape((W,1)) # One column\n",
    "\n",
    "# np.tile is used intead of meshgrid.\n",
    "# The method np.tile takes an input array and a\n",
    "# dimension list. This dimension list tells np.tile\n",
    "# how many times should the input array be duplicated\n",
    "# in the given dimension:\n",
    "# (10,) - means duplicate the input array 10 times in the first dimension\n",
    "# (1, 10) - means duplicate the input array 1 time in the first dimension\n",
    "#           and 10 times in the second.\n",
    "\n",
    "C = np.tile(x, (W, 1)) + 1j * np.tile(y, (1, H))"
   ]
  },
  {
   "cell_type": "markdown",
   "metadata": {},
   "source": [
    "For each point do the mentioned iteration and form the 2-d boolean mask indicating which points are in the set"
   ]
  },
  {
   "cell_type": "code",
   "execution_count": 3,
   "metadata": {},
   "outputs": [],
   "source": [
    "N_MAX = 100\n",
    "some_threshold = 100\n",
    "\n",
    "Z = np.zeros((W, H), dtype=complex)\n",
    "M = np.full((W, H), True, dtype=bool)\n",
    "for i in range(N_MAX):\n",
    "    Z[M] = Z[M] * Z[M] + C[M]\n",
    "    # Instead of checking the values against the treshold after the\n",
    "    # iterations, cut the values that escapes to infinity, '\n",
    "    # to avoid overflow\n",
    "    M[np.abs(Z) > some_threshold] = False\n"
   ]
  },
  {
   "cell_type": "markdown",
   "metadata": {},
   "source": [
    "Plot the image"
   ]
  },
  {
   "cell_type": "code",
   "execution_count": 4,
   "metadata": {},
   "outputs": [
    {
     "data": {
      "image/png": "[encoded data removed]",
      "text/plain": [
       "<Figure size 432x288 with 1 Axes>"
      ]
     },
     "metadata": {
      "needs_background": "light"
     },
     "output_type": "display_data"
    }
   ],
   "source": [
    "%matplotlib inline\n",
    "import matplotlib.pyplot as plt\n",
    "\n",
    "plt.imshow(M, extent=[-2, 1, -1.5, 1.5])\n",
    "plt.gray()\n",
    "\n",
    "# Next line saves the image as mandelbrot.png\n",
    "#plt.savefig('mandelbrot.png')"
   ]
  }
 ],
 "metadata": {
  "kernelspec": {
   "display_name": "Python 3 (ipykernel)",
   "language": "python",
   "name": "python3"
  },
  "language_info": {
   "codemirror_mode": {
    "name": "ipython",
    "version": 3
   },
   "file_extension": ".py",
   "mimetype": "text/x-python",
   "name": "python",
   "nbconvert_exporter": "python",
   "pygments_lexer": "ipython3",
   "version": "3.9.12"
  }
 },
 "nbformat": 4,
 "nbformat_minor": 4
}
