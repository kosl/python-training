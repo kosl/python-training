{
 "cells": [
  {
   "cell_type": "markdown",
   "id": "9879485a-4cc8-49d5-b565-e4027be45e27",
   "metadata": {},
   "source": [
    "# Threading\n",
    "Threading in Python is useful only where there are times where some waiting for I/O occurs and GIL is released. If the task is doing intensive calculations then multi-threading will not make any speed up.\n"
   ]
  },
  {
   "cell_type": "code",
   "execution_count": 4,
   "id": "9bcf2b81-680e-449c-bfdb-bc0d43367c16",
   "metadata": {},
   "outputs": [
    {
     "name": "stdout",
     "output_type": "stream",
     "text": [
      "Object `threading` not found.\n",
      "Starting a task...\n",
      "Starting a task...\n",
      "donedone\n",
      "\n",
      "It took  1.01 second(s) to complete.\n"
     ]
    }
   ],
   "source": [
    "from time import sleep, perf_counter\n",
    "from threading import Thread\n",
    "\n",
    "\n",
    "def task():\n",
    "    print('Starting a task...')\n",
    "    sleep(1)\n",
    "    print('done')\n",
    "\n",
    "\n",
    "start_time = perf_counter()\n",
    "\n",
    "# create two new threads\n",
    "t1 = Thread(target=task)\n",
    "t2 = Thread(target=task)\n",
    "\n",
    "# start the threads\n",
    "t1.start()\n",
    "t2.start()\n",
    "\n",
    "# wait for the threads to complete\n",
    "t1.join()\n",
    "t2.join()\n",
    "\n",
    "end_time = perf_counter()\n",
    "\n",
    "print(f'It took {end_time- start_time: 0.2f} second(s) to complete.')"
   ]
  },
  {
   "cell_type": "markdown",
   "id": "ec7c089c-6894-47cf-b3b2-38442700b113",
   "metadata": {},
   "source": [
    "## Resources\n",
    "- Excelent documentation: [python docs](https://docs.python.org/3.10/library/threading.html)"
   ]
  }
 ],
 "metadata": {
  "kernelspec": {
   "display_name": "Python 3 (ipykernel)",
   "language": "python",
   "name": "python3"
  },
  "language_info": {
   "codemirror_mode": {
    "name": "ipython",
    "version": 3
   },
   "file_extension": ".py",
   "mimetype": "text/x-python",
   "name": "python",
   "nbconvert_exporter": "python",
   "pygments_lexer": "ipython3",
   "version": "3.9.12"
  }
 },
 "nbformat": 4,
 "nbformat_minor": 5
}
