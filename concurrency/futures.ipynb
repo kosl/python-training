{
 "cells": [
  {
   "cell_type": "markdown",
   "id": "ce072239-1866-4bc5-ab11-0ba1f401d85e",
   "metadata": {},
   "source": [
    "# Concurency with futures\n",
    "\n",
    "For I/O bound work that we expect to be used afterwards (in future) we ban submit a work and do some other work meanwhile and collect later on. Requesting result actually joins the thread and assings te resulting data."
   ]
  },
  {
   "cell_type": "code",
   "execution_count": 4,
   "id": "8cc98b4b-bede-436d-b567-bc6a939ded06",
   "metadata": {},
   "outputs": [
    {
     "name": "stdout",
     "output_type": "stream",
     "text": [
      "-------- Wait for future --------\n",
      "future created | 0.0005514621734619141\n",
      "waiting for future... | 0.0006067752838134766\n",
      "future result: foo | 5.022968292236328\n",
      "--------Get future after --------\n",
      "future created | 0.0002493858337402344\n",
      "doing other things... | 0.0002949237823486328\n",
      "future result: foo | 10.05036473274231\n"
     ]
    }
   ],
   "source": [
    "import time\n",
    "from concurrent.futures import ThreadPoolExecutor as PoolExecutor\n",
    "\n",
    "\n",
    "def do_work(sleep_secs: float = 10.0) -> str:\n",
    "    time.sleep(sleep_secs)\n",
    "    return \"foo\"\n",
    "\n",
    "\n",
    "def wait_for_future() -> None:\n",
    "    print(\"-------- Wait for future --------\")\n",
    "    start_time = time.time()\n",
    "\n",
    "    with PoolExecutor() as executor:\n",
    "        future = executor.submit(do_work, sleep_secs=5.0)\n",
    "        print(\"future created\", \"|\", time.time() - start_time)\n",
    "\n",
    "        print(\"waiting for future...\", \"|\", time.time() - start_time)\n",
    "        result = future.result()\n",
    "        print(\"future result:\", result, \"|\", time.time() - start_time)\n",
    "\n",
    "\n",
    "def get_future_after() -> None:\n",
    "    print(\"--------Get future after --------\")\n",
    "    start_time = time.time()\n",
    "\n",
    "    with PoolExecutor() as executor:\n",
    "        future = executor.submit(do_work, sleep_secs=5.0)\n",
    "        print(\"future created\", \"|\", time.time() - start_time)\n",
    "\n",
    "        print(\"doing other things...\", \"|\", time.time() - start_time)\n",
    "        time.sleep(10.0)\n",
    "\n",
    "        result = future.result()\n",
    "        print(\"future result:\", result, \"|\", time.time() - start_time)\n",
    "\n",
    "\n",
    "# ----------------------------------------------------------------\n",
    "\n",
    "wait_for_future()\n",
    "get_future_after()"
   ]
  },
  {
   "cell_type": "markdown",
   "id": "01aa1327-5a5a-42b5-9986-3438a99cf3b4",
   "metadata": {},
   "source": [
    "## For CPU intensive work one can use ProcessPoolExecutor\n",
    "Distribution of work is usually done by mapping work. Under the hood multiprocessing is being used."
   ]
  },
  {
   "cell_type": "code",
   "execution_count": 3,
   "id": "e9b36e1d-f0cf-4a7b-9381-671a4e3dc1a8",
   "metadata": {},
   "outputs": [
    {
     "name": "stdout",
     "output_type": "stream",
     "text": [
      "map results: ['foo-1', 'foo-2', 'foo-3', 'foo-4', 'foo-5', 'foo-6', 'foo-7', 'foo-8', 'foo-9'] | 3.032550096511841\n"
     ]
    }
   ],
   "source": [
    "import time\n",
    "from concurrent.futures import ProcessPoolExecutor as PoolExecutor\n",
    "from functools import partial\n",
    "\n",
    "\n",
    "def do_work(sleep_secs: float, i: int) -> str:\n",
    "    time.sleep(sleep_secs)\n",
    "    return f\"foo-{i}\"\n",
    "\n",
    "\n",
    "\n",
    "start_time = time.time()\n",
    "with PoolExecutor() as executor:\n",
    "    results_gen = executor.map(partial(do_work, 3.0), range(1, 10))\n",
    "    print(\"map results:\", list(results_gen), \"|\", time.time() - start_time)"
   ]
  },
  {
   "cell_type": "markdown",
   "id": "6a57fdef-88c6-4e21-9860-eb62610b61e1",
   "metadata": {},
   "source": [
    "## Resources\n",
    "- Excelent documentation: [python docs](https://docs.python.org/3.10/library/concurrent.futures.html)\n",
    "\n"
   ]
  }
 ],
 "metadata": {
  "kernelspec": {
   "display_name": "Python 3 (ipykernel)",
   "language": "python",
   "name": "python3"
  },
  "language_info": {
   "codemirror_mode": {
    "name": "ipython",
    "version": 3
   },
   "file_extension": ".py",
   "mimetype": "text/x-python",
   "name": "python",
   "nbconvert_exporter": "python",
   "pygments_lexer": "ipython3",
   "version": "3.9.12"
  }
 },
 "nbformat": 4,
 "nbformat_minor": 5
}
