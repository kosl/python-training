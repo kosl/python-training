{
 "cells": [
  {
   "cell_type": "markdown",
   "id": "a1b001eb",
   "metadata": {},
   "source": [
    "# Seaborn\n",
    "\n",
    "Seaborn is a very easy to use Python library that is ideal for data science. It is built on top of Matplotlib and has been made to work with pandas dataframes.\n",
    "Check out the [`documentaton`](https://seaborn.pydata.org/) for a more in-depth understanding."
   ]
  },
  {
   "cell_type": "code",
   "execution_count": null,
   "id": "2270767a",
   "metadata": {},
   "outputs": [],
   "source": [
    "import pandas as pd\n",
    "import matplotlib.pyplot as plt\n",
    "import seaborn as sns"
   ]
  },
  {
   "cell_type": "markdown",
   "id": "6cea9191",
   "metadata": {},
   "source": [
    "## load_dataset()\n",
    "Seaborn comes with a handy way to quickly get some datasets to play with, but please note this is NOT the normal way of loading a CSV file.  Usually we'd use pandas.read_csv() as we've seen so far. However, this method provides us with a pandas data frame."
   ]
  },
  {
   "cell_type": "code",
   "execution_count": null,
   "id": "3a55e77a",
   "metadata": {},
   "outputs": [],
   "source": [
    "tips = sns.load_dataset(\"tips\") #This is a dataset tipping behaviour of diners"
   ]
  },
  {
   "cell_type": "code",
   "execution_count": null,
   "id": "485dbcb4",
   "metadata": {},
   "outputs": [],
   "source": [
    "tips"
   ]
  },
  {
   "cell_type": "code",
   "execution_count": null,
   "id": "585f0011",
   "metadata": {},
   "outputs": [],
   "source": [
    "penguins = sns.load_dataset(\"penguins\") #This loads a dataset about a penguin population"
   ]
  },
  {
   "cell_type": "markdown",
   "id": "f2ddcba4",
   "metadata": {},
   "source": [
    "## Scatterplots"
   ]
  },
  {
   "cell_type": "markdown",
   "id": "1375a7ca-9dac-419d-9ed0-f6b0094b9a8d",
   "metadata": {},
   "source": [
    "First we would like to use the default seaborn theme. Without it this figure looks like a plain pandas plot."
   ]
  },
  {
   "cell_type": "code",
   "execution_count": null,
   "id": "2b4d6770",
   "metadata": {},
   "outputs": [],
   "source": [
    "sns.set_theme()"
   ]
  },
  {
   "cell_type": "code",
   "execution_count": null,
   "id": "c4b6ece3",
   "metadata": {},
   "outputs": [],
   "source": [
    "sns.scatterplot(data=tips, x=\"total_bill\", y=\"tip\")"
   ]
  },
  {
   "cell_type": "markdown",
   "id": "0f22dffa-b8b6-4e99-8abd-1b789dbedeb5",
   "metadata": {},
   "source": [
    "A very useful tool in seaborn is to distinguish between features with the help of several arguments. The first one we will look at is the `hue`, which uses colours to seperate the data."
   ]
  },
  {
   "cell_type": "code",
   "execution_count": null,
   "id": "b31e116e",
   "metadata": {},
   "outputs": [],
   "source": [
    "sns.scatterplot(data=tips, x=\"total_bill\", y=\"tip\", hue=\"smoker\")"
   ]
  },
  {
   "cell_type": "code",
   "execution_count": null,
   "id": "530c1c34",
   "metadata": {},
   "outputs": [],
   "source": [
    "sns.scatterplot(data=tips, x=\"total_bill\", y=\"tip\", hue=\"sex\")"
   ]
  },
  {
   "cell_type": "markdown",
   "id": "2898d6bf-e210-4bcd-aec4-63b866cade77",
   "metadata": {},
   "source": [
    "You can also pass non-binary data to the hue argument. However, this can bekome rather confusing to interpret."
   ]
  },
  {
   "cell_type": "code",
   "execution_count": null,
   "id": "78a8f4ea",
   "metadata": {},
   "outputs": [],
   "source": [
    "sns.scatterplot(data=tips, x=\"total_bill\", y=\"tip\", hue=\"day\")"
   ]
  },
  {
   "cell_type": "markdown",
   "id": "b381c72f-bd50-4d0b-8fca-3405d8cac6c3",
   "metadata": {},
   "source": [
    "Apart from `hue`, you can also use `style` to distinguish your data."
   ]
  },
  {
   "cell_type": "code",
   "execution_count": null,
   "id": "175d5e8d",
   "metadata": {},
   "outputs": [],
   "source": [
    "sns.scatterplot(data=tips, x=\"total_bill\", y=\"tip\", hue=\"sex\", style=\"time\")"
   ]
  },
  {
   "cell_type": "code",
   "execution_count": null,
   "id": "900edc88",
   "metadata": {},
   "outputs": [],
   "source": [
    "sns.scatterplot(data=tips, x=\"total_bill\", y=\"tip\", hue=\"sex\", style=\"sex\")"
   ]
  },
  {
   "cell_type": "markdown",
   "id": "f15a46bc-bc50-413b-ae2d-7eaa67dff96d",
   "metadata": {},
   "source": [
    "In some cases it makes sense to change the size accoring to the input. In this case we are using the group size of the people dining."
   ]
  },
  {
   "cell_type": "code",
   "execution_count": null,
   "id": "88ffa085",
   "metadata": {},
   "outputs": [],
   "source": [
    "sns.scatterplot(data=tips, x=\"total_bill\", y=\"tip\", size=\"size\")"
   ]
  },
  {
   "cell_type": "code",
   "execution_count": null,
   "id": "e6956e4d",
   "metadata": {},
   "outputs": [],
   "source": [
    "sns.scatterplot(data=tips, x=\"total_bill\", y=\"tip\", size=\"size\", hue=\"sex\") #It seems men still pay the bills."
   ]
  },
  {
   "cell_type": "markdown",
   "id": "9bf2fb23-4f90-42e1-a5df-b085e52240ff",
   "metadata": {},
   "source": [
    "## Line plots"
   ]
  },
  {
   "cell_type": "markdown",
   "id": "65d4d033-cd75-4aa3-8b47-914b19823b33",
   "metadata": {},
   "source": [
    "In pandas or Matplotlib it would be quite cumbersome to create a line plot from data out of a dataframe. You would first have to do a groupby reduction before passing the result to Matplotlib. You can also plot straight from pandas, however, you do not have a lot control over how the plot should look like in the end. "
   ]
  },
  {
   "cell_type": "code",
   "execution_count": null,
   "id": "72803243-7fe4-4086-9e0f-7f1a1bdd7187",
   "metadata": {},
   "outputs": [],
   "source": [
    "flights = sns.load_dataset(\"flights\") #This is a dataset about the number of passengers on every month of the year"
   ]
  },
  {
   "cell_type": "code",
   "execution_count": null,
   "id": "b7037a25-d532-4900-90ee-8ffe20a6cabf",
   "metadata": {},
   "outputs": [],
   "source": [
    "flights.head()"
   ]
  },
  {
   "cell_type": "markdown",
   "id": "7e291bc7",
   "metadata": {},
   "source": [
    "## Seaborn Line Plots"
   ]
  },
  {
   "cell_type": "markdown",
   "id": "46f99f82-3827-4e1a-b0d1-6d14cd1c9636",
   "metadata": {},
   "source": [
    "Seborn automatically makes the aggregation and reduction. The default estimator is the mean. By default you also get a 95% confidence interval displayed."
   ]
  },
  {
   "cell_type": "code",
   "execution_count": null,
   "id": "f9bbd962",
   "metadata": {},
   "outputs": [],
   "source": [
    "flights = sns.load_dataset(\"flights\")"
   ]
  },
  {
   "cell_type": "code",
   "execution_count": null,
   "id": "b86cd7da",
   "metadata": {},
   "outputs": [],
   "source": [
    "sns.lineplot(data=flights, x=\"year\", y=\"passengers\")"
   ]
  },
  {
   "cell_type": "code",
   "execution_count": null,
   "id": "6f63e37e-95c4-4e2e-a4ef-70d0b3d40cce",
   "metadata": {},
   "outputs": [],
   "source": [
    "trips.head(3)"
   ]
  },
  {
   "cell_type": "code",
   "execution_count": null,
   "id": "a89062a7",
   "metadata": {},
   "outputs": [],
   "source": [
    "flights.groupby(\"year\")[\"passengers\"].mean().plot()"
   ]
  },
  {
   "cell_type": "code",
   "execution_count": null,
   "id": "ac0336ce",
   "metadata": {},
   "outputs": [],
   "source": [
    "sns.lineplot(data=flights, x=\"year\", y=\"passengers\", estimator=\"sum\")"
   ]
  },
  {
   "cell_type": "code",
   "execution_count": null,
   "id": "1e25a452",
   "metadata": {},
   "outputs": [],
   "source": [
    "sns.lineplot(data=flights, x=\"year\", y=\"passengers\", hue=\"month\")"
   ]
  },
  {
   "cell_type": "markdown",
   "id": "54da5f69-65ba-4fd8-9c14-c2482ddbaea7",
   "metadata": {},
   "source": [
    "## Relplots\n",
    "\n",
    "Seaborn offers a fantastic collection of [`relational plots`](https://seaborn.pydata.org/generated/seaborn.relplot.html), which give you a much better insight into your dataset. What you end up with is a facet grid, a figure level method with subplots in rows and columns."
   ]
  },
  {
   "cell_type": "code",
   "execution_count": null,
   "id": "8cc75432",
   "metadata": {},
   "outputs": [],
   "source": [
    "trips[\"hour\"] = trips[\"pickup\"].dt.hour"
   ]
  },
  {
   "cell_type": "markdown",
   "id": "b799e446-e600-4c82-b17b-b480e3a6f0b0",
   "metadata": {},
   "source": [
    "At a fist glance, the plott looks very similar to what we have already created earlier. Hoever, as soon as you pass data to the row and column argument, you end up with something truly useful."
   ]
  },
  {
   "cell_type": "code",
   "execution_count": null,
   "id": "c68c758f-c02b-4d3d-bce1-d18932380205",
   "metadata": {},
   "outputs": [],
   "source": [
    "sns.relplot(data=tips, x=\"total_bill\", y=\"tip\", kind=\"scatter\")"
   ]
  },
  {
   "cell_type": "markdown",
   "id": "e2a01d5a-8bd2-4507-950e-07ccf57fd70e",
   "metadata": {},
   "source": [
    "Let's split up our data in male and female:"
   ]
  },
  {
   "cell_type": "code",
   "execution_count": null,
   "id": "8f4d3987",
   "metadata": {},
   "outputs": [],
   "source": [
    "trips.head()"
   ]
  },
  {
   "cell_type": "markdown",
   "id": "2e32377b-afc9-431d-86ef-fc17bc598855",
   "metadata": {},
   "source": [
    "We can break this up even further, by bringing `hue` into play again."
   ]
  },
  {
   "cell_type": "code",
   "execution_count": null,
   "id": "a839cb94",
   "metadata": {},
   "outputs": [],
   "source": [
    "sns.lineplot(data=trips, x=\"hour\", y=\"total\", hue=\"payment\", style=\"color\", ci=None)"
   ]
  },
  {
   "cell_type": "markdown",
   "id": "b38465ca-9e7a-41ee-a744-c130bc4340f1",
   "metadata": {},
   "source": [
    "Now let's introduce rows as well. You end up with a 2x2 grid, which comes from the fact, that there are only two sexes and two different meals in our dataset."
   ]
  },
  {
   "cell_type": "markdown",
   "id": "2c024691",
   "metadata": {},
   "source": [
    "## The Figure-Level Relplot( ) Method"
   ]
  },
  {
   "cell_type": "markdown",
   "id": "ad47cdca-12a1-4e00-a599-48189318c533",
   "metadata": {},
   "source": [
    "Let's get back to the taxi trips dataset. This time we would like to split up the data according to the pick-up borough and the payment method."
   ]
  },
  {
   "cell_type": "code",
   "execution_count": null,
   "id": "c0adf89b",
   "metadata": {},
   "outputs": [],
   "source": [
    "tips.head()"
   ]
  },
  {
   "cell_type": "markdown",
   "id": "9e61d631-ae42-4500-8bec-99c7c970fe79",
   "metadata": {},
   "source": [
    "This time we'll go completely nuts by introducing some rows as well. This might take a while to complete..."
   ]
  },
  {
   "cell_type": "code",
   "execution_count": null,
   "id": "a275c9d5",
   "metadata": {},
   "outputs": [],
   "source": [
    "sns.relplot(\n",
    "    data=trips, \n",
    "    x=\"hour\",\n",
    "    y=\"total\", \n",
    "    kind=\"line\", \n",
    "    col=\"pickup_borough\", \n",
    "    hue=\"payment\", \n",
    "    row=\"dropoff_borough\"\n",
    ")"
   ]
  },
  {
   "cell_type": "markdown",
   "id": "b6b7ace0",
   "metadata": {},
   "source": [
    "## Changing Plot Sizes"
   ]
  },
  {
   "cell_type": "markdown",
   "id": "830623bb-b15f-426b-a7c3-0e34b421a520",
   "metadata": {},
   "source": [
    "When it comes to axes plots, such as line or scatter plots, we have to use plt.figure(figsize=()) to determin the size of the figure."
   ]
  },
  {
   "cell_type": "code",
   "execution_count": null,
   "id": "810393cc",
   "metadata": {},
   "outputs": [],
   "source": [
    "plt.figure(figsize=(8,5))\n",
    "sns.lineplot(data=flights, x=\"year\", y=\"passengers\", hue=\"month\")"
   ]
  },
  {
   "cell_type": "markdown",
   "id": "3c933451-a5bb-4f3c-b983-65886bee6186",
   "metadata": {},
   "source": [
    "However, when it comes to figure plots, such as relplots, we need to use the keyword \"height\", which determines the hight of one facet (subplot). To set the width, we need the keyword \"aspect\" to manipulate the aspect ratio of width to height of one facet (default = 1)."
   ]
  },
  {
   "cell_type": "code",
   "execution_count": null,
   "id": "f189b006",
   "metadata": {},
   "outputs": [],
   "source": [
    "sns.relplot(\n",
    "    data=tips, \n",
    "    x=\"total_bill\", \n",
    "    y=\"tip\", \n",
    "    kind=\"scatter\", \n",
    "    hue=\"smoker\", \n",
    "    col=\"day\",\n",
    "    row=\"sex\",\n",
    "    height=2,\n",
    "    aspect=1.3\n",
    ")"
   ]
  },
  {
   "cell_type": "markdown",
   "id": "7235cb4a",
   "metadata": {},
   "source": [
    "## Histograms"
   ]
  },
  {
   "cell_type": "markdown",
   "id": "bf87c8ad-a41c-4951-b254-9b15e6d02b66",
   "metadata": {},
   "source": [
    "Let's briefly delve into one of the classics when it comes to distribution plots, the histogram.\n",
    "The arguments are very much like the ones we got to know earlier."
   ]
  },
  {
   "cell_type": "code",
   "execution_count": null,
   "id": "8adc8dc8",
   "metadata": {
    "tags": []
   },
   "outputs": [],
   "source": [
    "sns.histplot(data=tips, x=\"tip\")"
   ]
  },
  {
   "cell_type": "markdown",
   "id": "3ad5e161-ed08-4f50-9671-379485a7a0d9",
   "metadata": {},
   "source": [
    "We can split up the data here as well (in this case with `hue`). It might, however, not always be useful to have the bars overlapping, so we can use the `multiple` argument to change the default e.g. to stack the bars, or display them side by side."
   ]
  },
  {
   "cell_type": "code",
   "execution_count": null,
   "id": "b97d149b",
   "metadata": {},
   "outputs": [],
   "source": [
    "sns.histplot(data=tips, x=\"tip\", hue=\"time\")"
   ]
  },
  {
   "cell_type": "code",
   "execution_count": null,
   "id": "b981d33b",
   "metadata": {},
   "outputs": [],
   "source": [
    "sns.histplot(data=tips, x=\"tip\", hue=\"smoker\", multiple=\"stack\")"
   ]
  },
  {
   "cell_type": "code",
   "execution_count": null,
   "id": "21f48c4a",
   "metadata": {},
   "outputs": [],
   "source": [
    "sns.histplot(data=tips, x=\"tip\", hue=\"smoker\", multiple=\"dodge\")"
   ]
  },
  {
   "cell_type": "markdown",
   "id": "facc79e0-2c82-4f92-a86b-67149f929865",
   "metadata": {},
   "source": [
    "We can also determine the amount of bins and the binwidth used."
   ]
  },
  {
   "cell_type": "code",
   "execution_count": null,
   "id": "b565c5bd",
   "metadata": {},
   "outputs": [],
   "source": [
    "sns.histplot(data=tips, x=\"tip\", bins = 20)"
   ]
  },
  {
   "cell_type": "markdown",
   "id": "1603ebbb-f827-4d7d-adb7-83f0956cf9d3",
   "metadata": {},
   "source": [
    "If you want to display a kernel density estimate (KDE) on top of your histogram, set kde=True."
   ]
  },
  {
   "cell_type": "code",
   "execution_count": null,
   "id": "022a4282-f990-43a7-ac2d-0dd2e65f13ec",
   "metadata": {},
   "outputs": [],
   "source": [
    "sns.histplot(data=tips, x=\"tip\", bins = 20, kde=True)"
   ]
  },
  {
   "cell_type": "markdown",
   "id": "05f64499",
   "metadata": {},
   "source": [
    "## KDE Plots"
   ]
  },
  {
   "cell_type": "markdown",
   "id": "c9ff0502-0a6f-4d0b-b51e-c3963eab9a21",
   "metadata": {},
   "source": [
    "Kernel density estimate plots provide you with the plot of a continuous distribution function, rather than the discrete one of a histogram."
   ]
  },
  {
   "cell_type": "code",
   "execution_count": null,
   "id": "876fd8cd-0acd-4d07-b8de-117ef4d03bdf",
   "metadata": {},
   "outputs": [],
   "source": [
    "trips.head()"
   ]
  },
  {
   "cell_type": "code",
   "execution_count": null,
   "id": "a875ef62",
   "metadata": {},
   "outputs": [],
   "source": [
    "sns.kdeplot(data=trips, x=\"hour\")"
   ]
  },
  {
   "cell_type": "code",
   "execution_count": null,
   "id": "df27fce3-f28a-46b7-a43e-741b0103b5b8",
   "metadata": {},
   "outputs": [],
   "source": [
    "sns.kdeplot(data=trips, x=\"hour\", hue=\"payment\")"
   ]
  },
  {
   "cell_type": "code",
   "execution_count": null,
   "id": "24cc0b1e-93af-42f1-bfdf-835d13295d3f",
   "metadata": {},
   "outputs": [],
   "source": [
    "sns.kdeplot(data=trips, x=\"hour\", hue=\"payment\", bw_adjust=0.4)"
   ]
  },
  {
   "cell_type": "code",
   "execution_count": null,
   "id": "ef9ce040-8ca8-459b-a037-1b49e2853d06",
   "metadata": {},
   "outputs": [],
   "source": [
    "sns.kdeplot(data=trips, x=\"hour\", hue=\"pickup_borough\", multiple=\"stack\")"
   ]
  },
  {
   "cell_type": "markdown",
   "id": "3d9e3fa5-a460-4ebc-b49d-bbea910b088f",
   "metadata": {},
   "source": [
    "## Multivariate Distributions"
   ]
  },
  {
   "cell_type": "markdown",
   "id": "8e43187e-1872-45c1-82eb-669813633a23",
   "metadata": {},
   "source": [
    "Let's take a look at our dataset about penguins."
   ]
  },
  {
   "cell_type": "code",
   "execution_count": null,
   "id": "42c5be79",
   "metadata": {},
   "outputs": [],
   "source": [
    "penguins.head()"
   ]
  },
  {
   "cell_type": "code",
   "execution_count": null,
   "id": "cb60b839-1e39-4406-b32b-c8a032d14864",
   "metadata": {},
   "outputs": [],
   "source": [
    "penguins.species.unique()"
   ]
  },
  {
   "cell_type": "markdown",
   "id": "36457453-f995-4733-8dd0-31713ab24667",
   "metadata": {},
   "source": [
    "Now we would like to create some ordinary histograms, first with the flipper length and then with the body mass."
   ]
  },
  {
   "cell_type": "code",
   "execution_count": null,
   "id": "e8bc1030",
   "metadata": {},
   "outputs": [],
   "source": [
    "sns.histplot(data=penguins, x=\"flipper_length_mm\")"
   ]
  },
  {
   "cell_type": "code",
   "execution_count": null,
   "id": "2ef74be7",
   "metadata": {},
   "outputs": [],
   "source": [
    "sns.histplot(data=penguins, x=\"body_mass_g\")"
   ]
  },
  {
   "cell_type": "markdown",
   "id": "cefb9db4-859b-4046-8d24-2c7fae94fb69",
   "metadata": {},
   "source": [
    "The histogram can also be created with two variables. What you get is very similar to a heatmap, where the darker areas show a higher concentration than the lighter ones."
   ]
  },
  {
   "cell_type": "code",
   "execution_count": null,
   "id": "b9f7a219",
   "metadata": {},
   "outputs": [],
   "source": [
    "sns.histplot(data=penguins, x=\"body_mass_g\", y=\"flipper_length_mm\")"
   ]
  },
  {
   "cell_type": "markdown",
   "id": "d728481f-d79e-48e4-b97d-e979c9e0e9d9",
   "metadata": {},
   "source": [
    "The same goes for the kdeplot, which is now very much like a contour plot."
   ]
  },
  {
   "cell_type": "code",
   "execution_count": null,
   "id": "96d471d2",
   "metadata": {},
   "outputs": [],
   "source": [
    "sns.kdeplot(data=penguins, x=\"body_mass_g\", y=\"flipper_length_mm\")"
   ]
  },
  {
   "cell_type": "markdown",
   "id": "f39958cc-090a-44ee-bdf0-840ca67310fa",
   "metadata": {},
   "source": [
    "How about splitting the data by means of the colour?"
   ]
  },
  {
   "cell_type": "code",
   "execution_count": null,
   "id": "cbd9ea2a",
   "metadata": {},
   "outputs": [],
   "source": [
    "sns.kdeplot(data=penguins, x=\"bill_length_mm\", y=\"flipper_length_mm\", hue=\"species\")"
   ]
  },
  {
   "cell_type": "code",
   "execution_count": null,
   "id": "0e70d3ef",
   "metadata": {},
   "outputs": [],
   "source": [
    "sns.histplot(data=penguins, x=\"bill_length_mm\", y=\"flipper_length_mm\", hue=\"species\")"
   ]
  },
  {
   "cell_type": "code",
   "execution_count": null,
   "id": "abe11022",
   "metadata": {},
   "outputs": [],
   "source": [
    "sns.rugplot(data=tips, x=\"tip\", height=0.2)"
   ]
  },
  {
   "cell_type": "code",
   "execution_count": null,
   "id": "dcb62045",
   "metadata": {},
   "outputs": [],
   "source": [
    "sns.rugplot(data=tips, y=\"tip\", height=0.2)"
   ]
  },
  {
   "cell_type": "code",
   "execution_count": null,
   "id": "622219aa",
   "metadata": {},
   "outputs": [],
   "source": [
    "sns.kdeplot(data=tips, x=\"total_bill\")\n",
    "sns.rugplot(data=tips, x=\"total_bill\", height=0.07)"
   ]
  },
  {
   "cell_type": "code",
   "execution_count": null,
   "id": "1bbdcbe2",
   "metadata": {},
   "outputs": [],
   "source": [
    "sns.scatterplot(data=tips, x=\"total_bill\", y=\"tip\")\n",
    "sns.rugplot(data=tips,x=\"total_bill\", y=\"tip\")"
   ]
  },
  {
   "cell_type": "code",
   "execution_count": null,
   "id": "6afaf8b3",
   "metadata": {},
   "outputs": [],
   "source": [
    "diamonds = sns.load_dataset(\"diamonds\")\n",
    "sns.scatterplot(data=diamonds, x=\"carat\", y=\"price\", s=5)\n",
    "sns.rugplot(data=diamonds, x=\"carat\", y=\"price\", lw=1, alpha=.005)"
   ]
  },
  {
   "cell_type": "markdown",
   "id": "99e8f618",
   "metadata": {},
   "source": [
    "## Displots"
   ]
  },
  {
   "cell_type": "markdown",
   "id": "7ab60947-ed87-453a-930e-38a6429778cc",
   "metadata": {},
   "source": [
    "Similar to using Relplots we can use [`Displots`](https://seaborn.pydata.org/generated/seaborn.displot.html), a figure based method to create subplots depicting the distribution of data. You just need to say which distribution graph you would like to use with the \"kind\" parameter. Without using the column (`col`) or row (`row`) parameters the outcome is the same as with e.g. the hisplot() function."
   ]
  },
  {
   "cell_type": "code",
   "execution_count": null,
   "id": "56cefd61",
   "metadata": {},
   "outputs": [],
   "source": [
    "sns.displot(kind=\"hist\", data=penguins, x=\"body_mass_g\", height=3, aspect=2)"
   ]
  },
  {
   "cell_type": "code",
   "execution_count": null,
   "id": "8292e635",
   "metadata": {},
   "outputs": [],
   "source": [
    "sns.displot(\n",
    "    kind=\"hist\", \n",
    "    data=penguins, \n",
    "    hue=\"sex\",\n",
    "    x=\"body_mass_g\", \n",
    "    col=\"species\"\n",
    ")"
   ]
  },
  {
   "cell_type": "markdown",
   "id": "a2f2b07f-dc48-4508-a305-dc1788ea5e35",
   "metadata": {},
   "source": [
    "Rug plots show you every data point and give you a better understanding of the distribution. To enable that set `rug` to True."
   ]
  },
  {
   "cell_type": "code",
   "execution_count": null,
   "id": "07167f25",
   "metadata": {},
   "outputs": [],
   "source": [
    "sns.displot(data=tips, kind=\"kde\", x=\"tip\", col=\"time\", rug=True)"
   ]
  },
  {
   "cell_type": "code",
   "execution_count": null,
   "id": "6adce6bb",
   "metadata": {},
   "outputs": [],
   "source": [
    "sns.displot(data=tips, kind=\"kde\", x=\"total_bill\", y=\"tip\", rug=True)"
   ]
  },
  {
   "cell_type": "markdown",
   "id": "e3475cb8",
   "metadata": {},
   "source": [
    "## Countplots\n",
    "\n",
    "Countplots to exactly what the name suggests. They count the number of observations for categorical data."
   ]
  },
  {
   "cell_type": "code",
   "execution_count": null,
   "id": "24559069-4f7c-4807-8d45-a3b1f5d09e06",
   "metadata": {},
   "outputs": [],
   "source": [
    "titanic = sns.load_dataset(\"titanic\")"
   ]
  },
  {
   "cell_type": "code",
   "execution_count": null,
   "id": "cd6408e1-e144-4b7f-a8a6-d0da5fc61127",
   "metadata": {},
   "outputs": [],
   "source": [
    "titanic.head()"
   ]
  },
  {
   "cell_type": "code",
   "execution_count": null,
   "id": "fafe8131",
   "metadata": {},
   "outputs": [],
   "source": [
    "sns.countplot(data=titanic, x=\"class\")"
   ]
  },
  {
   "cell_type": "code",
   "execution_count": null,
   "id": "aa1a29d7",
   "metadata": {},
   "outputs": [],
   "source": [
    "sns.countplot(data=titanic, x=\"class\", hue=\"sex\")"
   ]
  },
  {
   "cell_type": "markdown",
   "id": "3cdc1b9d-bc91-4ac8-8e95-9110ba484a1a",
   "metadata": {},
   "source": [
    "We can also switch to horizontal."
   ]
  },
  {
   "cell_type": "code",
   "execution_count": null,
   "id": "6d658c0e",
   "metadata": {},
   "outputs": [],
   "source": [
    "sns.countplot(data=titanic, y=\"class\", hue=\"sex\")"
   ]
  },
  {
   "cell_type": "markdown",
   "id": "226fd8ef",
   "metadata": {},
   "source": [
    "## Stripplot & Swarmplot\n",
    "\n",
    "Scatterplots are not very useful when we are dealing with categorical data. In such cases we might want to switch to Strip- or Swarmplots, which give us a sense of the distribution as well."
   ]
  },
  {
   "cell_type": "code",
   "execution_count": null,
   "id": "86f74f3d",
   "metadata": {},
   "outputs": [],
   "source": [
    "sns.scatterplot(data=trips, x=\"pickup_borough\", y=\"distance\")"
   ]
  },
  {
   "cell_type": "code",
   "execution_count": null,
   "id": "f8a5a655",
   "metadata": {},
   "outputs": [],
   "source": [
    "plt.figure(dpi=100)\n",
    "sns.stripplot(data=trips, x=\"pickup_borough\", y=\"distance\")\n",
    "plt.title(\"Taxi Trip Distance By Burough\")"
   ]
  },
  {
   "cell_type": "markdown",
   "id": "00eabe29-ca0d-471f-90cb-7aa2ba4dd15a",
   "metadata": {},
   "source": [
    "If the dataset is too large, the stripplot quickly becomes uninterpretable. The same goes for the swarmplot. So, let's reduce the amound of data in our case."
   ]
  },
  {
   "cell_type": "code",
   "execution_count": null,
   "id": "55b44d74",
   "metadata": {},
   "outputs": [],
   "source": [
    "trips_sample = trips.nlargest(600, \"total\")"
   ]
  },
  {
   "cell_type": "code",
   "execution_count": null,
   "id": "80c5be18",
   "metadata": {},
   "outputs": [],
   "source": [
    "plt.figure(figsize=(14,5))\n",
    "sns.swarmplot(data=trips_sample, x=\"pickup_borough\", y=\"distance\")"
   ]
  },
  {
   "cell_type": "code",
   "execution_count": null,
   "id": "5e5cdd42",
   "metadata": {},
   "outputs": [],
   "source": [
    "plt.figure(figsize=(12,5))\n",
    "sns.stripplot(data=trips_sample, x=\"pickup_borough\", y=\"distance\")\n",
    "plt.title(\"Taxi Trips By Borough\")"
   ]
  },
  {
   "cell_type": "code",
   "execution_count": null,
   "id": "d2c11732",
   "metadata": {},
   "outputs": [],
   "source": [
    "plt.figure(figsize=(12,5))\n",
    "\n",
    "sns.swarmplot(data=titanic, x=\"pclass\", y=\"age\", hue=\"sex\")"
   ]
  },
  {
   "cell_type": "markdown",
   "id": "c88dac34",
   "metadata": {},
   "source": [
    "## Boxplots\n",
    "\n",
    "Boxplots only really make sense, when you compare data. However, you can of course also just create a single boxplot."
   ]
  },
  {
   "cell_type": "code",
   "execution_count": null,
   "id": "0c023eed",
   "metadata": {},
   "outputs": [],
   "source": [
    "sns.boxplot(data=titanic, x=\"age\")"
   ]
  },
  {
   "cell_type": "code",
   "execution_count": null,
   "id": "7e2469a2",
   "metadata": {},
   "outputs": [],
   "source": [
    "sns.boxplot(data=trips, x=\"pickup_borough\", y=\"total\")"
   ]
  },
  {
   "cell_type": "markdown",
   "id": "330a64de-bbe5-42b1-8639-56d4b031c355",
   "metadata": {},
   "source": [
    "You can also set the whisker size as a proportion of the inter quartile range. Everything outside of this range will be classified as outliers (fliers)."
   ]
  },
  {
   "cell_type": "code",
   "execution_count": null,
   "id": "d42e1d45",
   "metadata": {},
   "outputs": [],
   "source": [
    "sns.boxplot(data=trips, x=\"pickup_borough\", y=\"total\", whis=2.5, fliersize=2)"
   ]
  },
  {
   "cell_type": "code",
   "execution_count": null,
   "id": "6ac2010e",
   "metadata": {},
   "outputs": [],
   "source": [
    "plt.figure(figsize=(12,5))\n",
    "sns.swarmplot(data=titanic, x=\"class\", y=\"age\")\n",
    "sns.boxplot(data=titanic, x=\"class\", y=\"age\")"
   ]
  },
  {
   "cell_type": "markdown",
   "id": "9d0f1b91",
   "metadata": {},
   "source": [
    "## Boxenplots\n",
    "\n",
    "[`Boxenplots`](https://seaborn.pydata.org/generated/seaborn.boxenplot.html) work just like boxplots, but give you additional quantiles, which give you a better understanding of the distribution of your data."
   ]
  },
  {
   "cell_type": "code",
   "execution_count": null,
   "id": "53290459",
   "metadata": {},
   "outputs": [],
   "source": [
    "sns.boxplot(data=trips, x=\"pickup_borough\", y=\"total\")"
   ]
  },
  {
   "cell_type": "markdown",
   "id": "d3082130-9cc6-4559-b56f-4646670373dc",
   "metadata": {},
   "source": [
    "For the boxenplot to display correctly, we need to adjust die figsize."
   ]
  },
  {
   "cell_type": "code",
   "execution_count": null,
   "id": "ee55355f",
   "metadata": {},
   "outputs": [],
   "source": [
    "plt.figure(figsize=(10,6))\n",
    "sns.boxenplot(data=trips, x=\"pickup_borough\", y=\"total\")"
   ]
  },
  {
   "cell_type": "markdown",
   "id": "7ebee7bf",
   "metadata": {},
   "source": [
    "## Violinplots\n",
    "\n",
    "In simple terms, a [`violinplot`](https://seaborn.pydata.org/generated/seaborn.violinplot.html) are an alternative to the boxenplot, which shows the distribution of quantitative data from categorical variables. It enables you to compare distributions easily and intuitivly. The violin plot features a kernel density estimation (KDE) of the underlying distribution."
   ]
  },
  {
   "cell_type": "code",
   "execution_count": null,
   "id": "a4140f1e",
   "metadata": {},
   "outputs": [],
   "source": [
    "sns.violinplot(data=titanic, x=\"age\")\n",
    "# sns.boxplot(data=titanic, x=\"age\")"
   ]
  },
  {
   "cell_type": "code",
   "execution_count": null,
   "id": "6470a5d2",
   "metadata": {},
   "outputs": [],
   "source": [
    "sns.violinplot(data=titanic, x=\"class\", y=\"age\")"
   ]
  },
  {
   "cell_type": "code",
   "execution_count": null,
   "id": "e9970725",
   "metadata": {},
   "outputs": [],
   "source": [
    "sns.violinplot(data=titanic, x=\"class\", y=\"age\", hue=\"sex\")"
   ]
  },
  {
   "cell_type": "markdown",
   "id": "2374f141-c82e-4492-8add-c366be6d1106",
   "metadata": {},
   "source": [
    "One nice feature of the violin plot ist the fact that we can split to get a more compact depiction."
   ]
  },
  {
   "cell_type": "code",
   "execution_count": null,
   "id": "20785d95",
   "metadata": {},
   "outputs": [],
   "source": [
    "plt.figure(figsize=(10,4))\n",
    "sns.violinplot(data=titanic, x=\"class\", y=\"age\", hue=\"sex\", split=True, palette=\"muted\")"
   ]
  },
  {
   "cell_type": "markdown",
   "id": "32c2deea",
   "metadata": {},
   "source": [
    "## Barplots\n",
    "\n",
    "[`Barplots`](https://seaborn.pydata.org/generated/seaborn.barplot.html) give you a different output than you might expect from other APIs. By default you get the aggregated mean from your data. You can change the reduction with the `estimator` parameter (e.g. to \"sum\").\n",
    "In addition, you also get some uncertainty information in form of an error bar by default. Should you wish to change the type of error, just change `ci` accordingly, or set it to \"None\"."
   ]
  },
  {
   "cell_type": "code",
   "execution_count": null,
   "id": "1b13e53b",
   "metadata": {},
   "outputs": [],
   "source": [
    "sns.barplot(data=trips, x=\"pickup_borough\", y=\"distance\")"
   ]
  },
  {
   "cell_type": "code",
   "execution_count": null,
   "id": "2194f1d4",
   "metadata": {},
   "outputs": [],
   "source": [
    "sns.barplot(data=trips, x=\"pickup_borough\", y=\"total\")"
   ]
  },
  {
   "cell_type": "code",
   "execution_count": null,
   "id": "875f9bd6",
   "metadata": {},
   "outputs": [],
   "source": [
    "sns.barplot(data=trips, x=\"pickup_borough\", y=\"total\", estimator=sum, ci=None)"
   ]
  },
  {
   "cell_type": "markdown",
   "id": "bea6df9d-51f6-4e01-9599-78a0be8873f7",
   "metadata": {},
   "source": [
    "Again, you could achieve something similar by using groupby in pandas, Seaborn is just much less cumbersome."
   ]
  },
  {
   "cell_type": "code",
   "execution_count": null,
   "id": "74b20a9f",
   "metadata": {},
   "outputs": [],
   "source": [
    "trips.groupby(\"pickup_borough\")[\"total\"].sum().plot(kind=\"bar\")"
   ]
  },
  {
   "cell_type": "code",
   "execution_count": null,
   "id": "e30738a2",
   "metadata": {},
   "outputs": [],
   "source": [
    "sns.barplot(data=trips, x=\"pickup_borough\", y=\"distance\", hue=\"color\")"
   ]
  },
  {
   "cell_type": "markdown",
   "id": "40086dba-994c-41fc-a150-5c2f8a7b0520",
   "metadata": {},
   "source": [
    "You can change the orientation, by switching x and y."
   ]
  },
  {
   "cell_type": "code",
   "execution_count": null,
   "id": "9e14baf0",
   "metadata": {},
   "outputs": [],
   "source": [
    "sns.barplot(data=trips, y=\"pickup_borough\", x=\"distance\", hue=\"color\", dodge=False)"
   ]
  },
  {
   "cell_type": "markdown",
   "id": "68e3f23e-8006-40e7-a07d-3fc384525ccf",
   "metadata": {},
   "source": [
    "That does't work, however, if both variables are categorical and numeric. In such a case, you have to change the orientation and set `orient`=\"h\"."
   ]
  },
  {
   "cell_type": "markdown",
   "id": "ffeb02b0",
   "metadata": {},
   "source": [
    "## Catplots"
   ]
  },
  {
   "cell_type": "markdown",
   "id": "1cfb4b69-d6f4-4e82-91df-051c2512cdc9",
   "metadata": {},
   "source": [
    "[`Catplots`](https://seaborn.pydata.org/generated/seaborn.catplot.html#) are the third group of figure based plots and work similar to Relplots and Displots. The result facet grid with a categorical plot. Again, you need to fill `col` and/or `row` to create sub-plots."
   ]
  },
  {
   "cell_type": "code",
   "execution_count": null,
   "id": "6874d530",
   "metadata": {},
   "outputs": [],
   "source": [
    "sns.catplot(data=titanic, x=\"sex\", y=\"survived\", kind=\"bar\")"
   ]
  },
  {
   "cell_type": "code",
   "execution_count": null,
   "id": "d9b2f235",
   "metadata": {},
   "outputs": [],
   "source": [
    "sns.catplot(data=titanic, x=\"sex\", y=\"survived\", kind=\"bar\", col=\"class\")"
   ]
  },
  {
   "cell_type": "code",
   "execution_count": null,
   "id": "51bddf8e",
   "metadata": {},
   "outputs": [],
   "source": [
    "sns.catplot(\n",
    "    data=trips, \n",
    "    kind=\"strip\", \n",
    "    x=\"pickup_borough\", \n",
    "    y=\"distance\", \n",
    "    col=\"color\",\n",
    "    height=5,\n",
    "    aspect=1.5\n",
    ")"
   ]
  },
  {
   "cell_type": "code",
   "execution_count": null,
   "id": "857a5d57",
   "metadata": {},
   "outputs": [],
   "source": [
    "sns.catplot(data=trips,\n",
    "            kind=\"violin\",\n",
    "            x=\"pickup_borough\",\n",
    "            y=\"distance\",\n",
    "            hue=\"payment\",\n",
    "            split=True,\n",
    "            col=\"color\")"
   ]
  },
  {
   "cell_type": "code",
   "execution_count": null,
   "id": "c4fdfd9a",
   "metadata": {},
   "outputs": [],
   "source": [
    "sns.catplot(\n",
    "    data=titanic, \n",
    "    kind=\"bar\",\n",
    "    x=\"who\",\n",
    "    y=\"survived\",\n",
    "    col=\"class\",\n",
    "    ci=None,\n",
    ")"
   ]
  },
  {
   "cell_type": "markdown",
   "id": "ae51d331-cc0c-41bb-84dd-03f1b1f1b97c",
   "metadata": {},
   "source": [
    "## Pairplots\n",
    "\n",
    "[`Pairplots`](https://seaborn.pydata.org/generated/seaborn.pairplot.html) are very useful in feature engineering for machine learning, as they plot pairwise relationships in a dataset.\n",
    "From the Seaborn documentation: \"By default, this function will create a grid of Axes such that each numeric variable in data will by shared across the y-axes across a single row and the x-axes across a single column. The diagonal plots are treated differently: a univariate distribution plot is drawn to show the marginal distribution of the data in each column.\""
   ]
  },
  {
   "cell_type": "code",
   "execution_count": null,
   "id": "17a20c6f-b705-495f-aab2-a1dd65455919",
   "metadata": {},
   "outputs": [],
   "source": [
    "iris = sns.load_dataset(\"iris\")"
   ]
  },
  {
   "cell_type": "code",
   "execution_count": null,
   "id": "7ecf2e6d-8813-4a74-ad36-74f078e695d4",
   "metadata": {},
   "outputs": [],
   "source": [
    "iris.head()"
   ]
  },
  {
   "cell_type": "code",
   "execution_count": null,
   "id": "5fe84219-95ff-47f2-a7bf-df1fbfc18aa1",
   "metadata": {},
   "outputs": [],
   "source": [
    "sns.pairplot(data=iris, hue=\"species\")"
   ]
  },
  {
   "cell_type": "markdown",
   "id": "260eb190-ac1e-4e97-99e6-f060ee12b6e5",
   "metadata": {},
   "source": [
    "## Heatmaps\n",
    "\n",
    "[`Heatmaps`](https://seaborn.pydata.org/generated/seaborn.heatmap.html) can be really useful to visualise correlations between features."
   ]
  },
  {
   "cell_type": "code",
   "execution_count": null,
   "id": "08b5b4ff-9020-4c6d-af72-128a9a1928ae",
   "metadata": {},
   "outputs": [],
   "source": [
    "mpg = sns.load_dataset(\"mpg\")"
   ]
  },
  {
   "cell_type": "code",
   "execution_count": null,
   "id": "4f7a6b5e-1217-4f41-b21b-dcaaa94b8c00",
   "metadata": {},
   "outputs": [],
   "source": [
    "mpg.head()"
   ]
  },
  {
   "cell_type": "code",
   "execution_count": null,
   "id": "3e4fa881-7b8f-446d-942e-b378516c714a",
   "metadata": {},
   "outputs": [],
   "source": [
    "mpg.corr()"
   ]
  },
  {
   "cell_type": "code",
   "execution_count": null,
   "id": "3e8f173e-5caa-42ec-b3ff-06ab3f525c75",
   "metadata": {},
   "outputs": [],
   "source": [
    "plt.figure(figsize=(8,6))\n",
    "sns.heatmap(data=mpg.corr(), linewidth=0.5, annot=True)"
   ]
  },
  {
   "cell_type": "markdown",
   "id": "58fd9a3d-e49d-495a-af26-686250269c48",
   "metadata": {},
   "source": [
    "# Save to file"
   ]
  },
  {
   "cell_type": "code",
   "execution_count": null,
   "id": "519bfc15-7f6f-492f-98f5-b0096c82e2f5",
   "metadata": {},
   "outputs": [],
   "source": [
    "import matplotlib.pyplot as plt"
   ]
  },
  {
   "cell_type": "code",
   "execution_count": null,
   "id": "1b8f2975-b853-4aaa-8560-617c11fa2c4f",
   "metadata": {},
   "outputs": [],
   "source": [
    "mpg = sns.load_dataset(\"mpg\")"
   ]
  },
  {
   "cell_type": "code",
   "execution_count": null,
   "id": "6e964d31-fb23-4b40-ad78-091385f1722d",
   "metadata": {},
   "outputs": [],
   "source": [
    "figure = plt.figure(figsize=(8,6))\n",
    "ax = sns.heatmap(data=mpg.corr(), linewidth=0.5, annot=True)\n",
    "plt.savefig(\"seaborn_heatmap.svg\", format=\"svg\")"
   ]
  }
 ],
 "metadata": {
  "kernelspec": {
   "display_name": "Python 3 (ipykernel)",
   "language": "python",
   "name": "python3"
  },
  "language_info": {
   "codemirror_mode": {
    "name": "ipython",
    "version": 3
   },
   "file_extension": ".py",
   "mimetype": "text/x-python",
   "name": "python",
   "nbconvert_exporter": "python",
   "pygments_lexer": "ipython3",
   "version": "3.9.12"
  }
 },
 "nbformat": 4,
 "nbformat_minor": 5
}
