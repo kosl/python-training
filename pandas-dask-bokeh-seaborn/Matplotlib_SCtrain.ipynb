{
 "cells": [
  {
   "cell_type": "markdown",
   "id": "bf070152",
   "metadata": {},
   "source": [
    "# A brief introduction to Matplotlib"
   ]
  },
  {
   "cell_type": "markdown",
   "id": "f695e200-a438-4b60-8482-e7c8267a7945",
   "metadata": {},
   "source": [
    "Matplotlib is all about Visualization with Python. According to it's website, it is a comprehensive library for creating static, animated, and interactive visualizations in Python. Matplotlib makes easy things easy and hard things possible. \n",
    "\n",
    "* Matplotlib documentation: https://matplotlib.org/stable/api/index <img src=\"images/matplotlib_logo.svg\" align=\"right\" width=\"30%\">\n",
    "* Useful cheatsheets: https://matplotlib.org/cheatsheets/ \n",
    "* Examples: https://matplotlib.org/stable/plot_types/index.html\n",
    "\n",
    "Matplotlib can be a bit confusing at first, as there are different ways to achieve the same result. But let's just have a look at some examples and edge closer to mastering this powerful tool."
   ]
  },
  {
   "cell_type": "code",
   "execution_count": null,
   "id": "be31396a",
   "metadata": {},
   "outputs": [],
   "source": [
    "import matplotlib.pyplot as plt\n",
    "import numpy as np"
   ]
  },
  {
   "cell_type": "markdown",
   "id": "2db23efc-ab23-4cc5-b316-052f5809a553",
   "metadata": {},
   "source": [
    "## Lineplots"
   ]
  },
  {
   "cell_type": "code",
   "execution_count": null,
   "id": "86159e3d-1eed-49bf-919c-ba62e10e617f",
   "metadata": {},
   "outputs": [],
   "source": [
    "X = [0, 1, 2, 3, 4, 5]\n",
    "Y = [2, 4, 6, 8, 10, 12]"
   ]
  },
  {
   "cell_type": "code",
   "execution_count": null,
   "id": "de87bd9a-3da7-408f-8d7c-d6acec0739e5",
   "metadata": {},
   "outputs": [],
   "source": [
    "plt.plot(X,Y)"
   ]
  },
  {
   "cell_type": "markdown",
   "id": "02d7a2bd-e081-4efa-878b-f0070df3c10b",
   "metadata": {},
   "source": [
    "That was easy. But now let's look at the anatomy of a Matpotlib figure:\n",
    "\n",
    "<img src=\"images/anatomy_of_figure.svg\" align=\"bottom\" width=\"60%\">"
   ]
  },
  {
   "cell_type": "markdown",
   "id": "d3839961-fef8-4cb1-976d-e1e1c6ed0104",
   "metadata": {},
   "source": [
    "Let's take it one step at a time:"
   ]
  },
  {
   "cell_type": "code",
   "execution_count": null,
   "id": "0874f155-41e1-4d3b-b84a-ed57c70cf76d",
   "metadata": {},
   "outputs": [],
   "source": [
    "X = np.linspace(0, 3*np.pi, 100)\n",
    "Y1, Y2, Y3, Y4 = np.sin(X), np.sin(X+np.pi/2), 2*np.sin(X), np.sin(2*X)"
   ]
  },
  {
   "cell_type": "code",
   "execution_count": null,
   "id": "6f2f053f-9d9c-4e69-b9ff-0cc1e2e513d6",
   "metadata": {},
   "outputs": [],
   "source": [
    "plt.figure()\n",
    "\n",
    "# As long as we do not call a new figure, all plots will be displayed in the same axes\n",
    "plt.plot(X, Y1)\n",
    "plt.plot(X, Y2)\n",
    "\n",
    "plt.show()"
   ]
  },
  {
   "cell_type": "markdown",
   "id": "98509d38-6695-4c63-9f85-edb2e61aa33d",
   "metadata": {},
   "source": [
    "### Line attributes"
   ]
  },
  {
   "cell_type": "code",
   "execution_count": null,
   "id": "3af9f5ea-003d-424a-a728-d3a5db07aa54",
   "metadata": {},
   "outputs": [],
   "source": [
    "plt.figure()\n",
    "\n",
    "plt.plot(X, Y1, color = \"red\", linewidth = 3.5) #  linewidth default is 3\n",
    "plt.plot(X, Y2, color = \"blue\", linestyle = \"--\") # linestyles: \"-\" line (default), \"--\" dashed, \":\" dotted, \"-.\" dashed/dotted\n",
    "plt.plot(X, Y3, color = \"green\", linestyle = \":\") \n",
    "plt.plot(X, Y4, color = \"black\", linestyle = \"-.\")\n",
    "\n",
    "#set x and y axis limits\n",
    "plt.xlim(0, 3*np.pi)\n",
    "plt.ylim(-2.5, 2.5)\n",
    "\n",
    "plt.show()"
   ]
  },
  {
   "cell_type": "markdown",
   "id": "d21925a9-e005-438b-aa77-a23fab28d646",
   "metadata": {},
   "source": [
    "### Figuresize, titles, limits and legends"
   ]
  },
  {
   "cell_type": "code",
   "execution_count": null,
   "id": "33050e9c-d964-4fd4-9a44-e46f45f6d405",
   "metadata": {},
   "outputs": [],
   "source": [
    "plt.figure(figsize = (8,5)) # Define the size of your figure\n",
    "\n",
    "plt.plot(X, Y1, color = \"red\", linewidth = 3.5, label = \"sin(x)\")\n",
    "plt.plot(X, Y2, color = \"blue\", linestyle = \"--\", label = \"sin(x + pi/2)\")\n",
    "plt.plot(X, Y3, color = \"green\", linestyle = \":\", label = \"2 * sin(x)\")\n",
    "plt.plot(X, Y4, color = \"black\", linestyle = \"-.\", label = \"sin(2*x)\")\n",
    "\n",
    "#set x and y axis limits\n",
    "plt.xlim(0, 3*np.pi)\n",
    "plt.ylim(-2.5, 2.5)\n",
    "\n",
    "#Add title\n",
    "plt.title(\"Sine Function\", fontsize = 16, pad = 20)\n",
    "\n",
    "#Add legend (you need to define labels for your plots)\n",
    "plt.legend(loc=\"lower right\") # loc default is \"best\"\n",
    "\n",
    "plt.show()"
   ]
  },
  {
   "cell_type": "markdown",
   "id": "c23c886d-fe8d-4873-93c7-4193b7a3f019",
   "metadata": {},
   "source": [
    "### Anotations"
   ]
  },
  {
   "cell_type": "code",
   "execution_count": null,
   "id": "0b28b09c-5d55-4095-856e-a01d1368a727",
   "metadata": {},
   "outputs": [],
   "source": [
    "plt.figure(figsize = (8,5))\n",
    "\n",
    "# Let's add a special marker and annotate it\n",
    "plt.plot(X, Y1, color = \"red\", linewidth = 3.5, label = \"sin(x)\", marker = \"o\", markersize = 7, markevery=50)\n",
    "plt.plot(X, Y2, color = \"blue\", linestyle = \"--\", label = \"sin(x + pi/2)\")\n",
    "plt.plot(X, Y3, color = \"green\", linestyle = \":\", label = \"2 * sin(x)\")\n",
    "plt.plot(X, Y4, color = \"black\", linestyle = \"-.\", label = \"sin(2*x)\")\n",
    "\n",
    "plt.xlim(0, 3*np.pi)\n",
    "plt.ylim(-2.5, 2.5)\n",
    "\n",
    "# Here we add the annotation\n",
    "plt.annotate(\"special point\", xy=(1.5*np.pi, -1), xytext=(1.5*np.pi, -1.8), arrowprops = {\"arrowstyle\":\"->\", \"color\":\"red\"})\n",
    "plt.title(\"Sine Function\", fontsize = 16, pad = 20)\n",
    "plt.legend(loc=\"lower right\")\n",
    "\n",
    "plt.show()"
   ]
  },
  {
   "cell_type": "markdown",
   "id": "998b332f-e743-48b8-b1a2-0caec84dc1b7",
   "metadata": {},
   "source": [
    "### Subplots"
   ]
  },
  {
   "cell_type": "code",
   "execution_count": null,
   "id": "b0f2a617-64a9-4184-b312-464f86a9dbc4",
   "metadata": {},
   "outputs": [],
   "source": [
    "plt.figure(figsize = (10,8))\n",
    "plt.suptitle(\"Sine Function\", fontsize = 16)\n",
    "\n",
    "ax_1 = plt.subplot(2,2,1, xlim=(0, 3*np.pi), ylim=(-2.5, 2.5))\n",
    "plt.plot(X, Y1, color = \"red\", linewidth = 3.5, label = \"sin(x)\")\n",
    "plt.title(\"sin(x)\")\n",
    "\n",
    "ax_2 = plt.subplot(2,2,2, sharex=ax_1, sharey=ax_1)\n",
    "plt.plot(X, Y2, color = \"blue\", linestyle = \"--\", label = \"sin(x + pi/2)\")\n",
    "plt.title(\"sin(x + pi/2)\")\n",
    "\n",
    "ax_3 = plt.subplot(2,2,3,  sharex=ax_1, sharey=ax_1)\n",
    "plt.plot(X, Y3, color = \"green\", linestyle = \":\", label = \"2 * sin(x)\")\n",
    "plt.title(\"2 * sin(x)\")\n",
    "\n",
    "ax_4 = plt.subplot(2,2,4,  sharex=ax_1, sharey=ax_1)\n",
    "plt.plot(X, Y4, color = \"black\", linestyle = \"-.\", label = \"sin(2*x)\")\n",
    "plt.title(\"sin(2*x)\")\n",
    "\n",
    "plt.tight_layout()\n",
    "plt.show()"
   ]
  },
  {
   "cell_type": "markdown",
   "id": "4e2f83eb-f21f-4e36-8158-2f556a684c08",
   "metadata": {},
   "source": [
    "### Save your graph"
   ]
  },
  {
   "cell_type": "code",
   "execution_count": null,
   "id": "de0c3c9d-cacb-4e73-9f8f-8ed373fadedb",
   "metadata": {},
   "outputs": [],
   "source": [
    "plt.figure(figsize = (10,8))\n",
    "plt.suptitle(\"Sine Function\", fontsize = 16)\n",
    "\n",
    "ax_1 = plt.subplot(2,2,1, xlim=(0, 3*np.pi), ylim=(-2.5, 2.5))\n",
    "plt.plot(X, Y1, color = (184/255,134/255,11/255), linewidth = 3, label = \"sin(x)\") #RGB colour code\n",
    "plt.title(\"sin(x)\")\n",
    "# Let's set ticks as multiples of pi\n",
    "ticks = np.arange(0,3.5*np.pi,np.pi/2)\n",
    "tick_labels = [\"0\", \"0.5*pi\", \"pi\", \"1.5*pi\", \"2*pi\", \"2.5*pi\", \"3*pi\"]\n",
    "plt.xticks(ticks, labels=tick_labels)\n",
    "ax_1.set_facecolor((0,0,0)) # Backgroundcolour of each axes\n",
    "\n",
    "ax_2 = plt.subplot(2,2,2, sharex=ax_1, sharey=ax_1)\n",
    "plt.plot(X, Y2, color = (1,1,1), linestyle = \"--\", linewidth = 3, label = \"sin(x + pi/2)\")\n",
    "plt.title(\"sin(x + pi/2)\")\n",
    "ax_2.set_facecolor((0,0,0))\n",
    "\n",
    "ax_3 = plt.subplot(2,2,3,  sharex=ax_1, sharey=ax_1)\n",
    "plt.plot(X, Y3, color = \"#B8860B\", linestyle = \":\", linewidth = 3, label = \"2 * sin(x)\") #Hex colour code\n",
    "plt.title(\"2 * sin(x)\")\n",
    "ax_3.set_facecolor(\"#000000\")\n",
    "\n",
    "ax_4 = plt.subplot(2,2,4,  sharex=ax_1, sharey=ax_1)\n",
    "plt.plot(X, Y4, color = \"white\", linestyle = \"-.\", linewidth = 3, label = \"sin(2*x)\") #Colour name\n",
    "plt.title(\"sin(2*x)\")\n",
    "ax_4.set_facecolor(\"black\")\n",
    "\n",
    "plt.tight_layout() # Matplotlib makes sure your spaces are not to big and tidies our plot a bit\n",
    "plt.savefig(\"firstmatplotlibfig.png\", dpi=150) # Let's save this figure as a png\n",
    "plt.show()"
   ]
  },
  {
   "cell_type": "markdown",
   "id": "6688d309-15cc-4c8f-9bd7-2d0fa9ea8032",
   "metadata": {},
   "source": [
    "## Scatterplots"
   ]
  },
  {
   "cell_type": "code",
   "execution_count": null,
   "id": "1b0bc058-9a28-4a5c-ba32-208cb4673d54",
   "metadata": {},
   "outputs": [],
   "source": [
    "A = np.random.uniform(0 ,1, 100)\n",
    "B = np.random.uniform(0, 1, 100)\n",
    "\n",
    "plt.figure()\n",
    "plt.scatter(A, B, s = 3, marker = \"^\")\n",
    "plt.show()"
   ]
  },
  {
   "cell_type": "markdown",
   "id": "d13799cc-9629-48a7-a0db-4863556cacc2",
   "metadata": {},
   "source": [
    "## Bar charts and Histograms"
   ]
  },
  {
   "cell_type": "code",
   "execution_count": null,
   "id": "d0b0152c-b41d-4e2f-b62e-44155f7397ec",
   "metadata": {},
   "outputs": [],
   "source": [
    "C = np.arange(10)\n",
    "D = np.random.uniform(1, 10, 10)\n",
    "\n",
    "plt.figure()\n",
    "plt.bar(C, D)\n",
    "\n",
    "plt.show()"
   ]
  },
  {
   "cell_type": "code",
   "execution_count": null,
   "id": "be924668-0dd3-4f92-b7b9-a1f28bc84c37",
   "metadata": {},
   "outputs": [],
   "source": [
    "E = np.random.normal(0, 1, 1000)\n",
    "plt.figure()\n",
    "plt.hist(E, bins=25)\n",
    "plt.show()"
   ]
  },
  {
   "cell_type": "markdown",
   "id": "2555a410-2fee-437d-943f-0c3ab3d408f4",
   "metadata": {},
   "source": [
    "### Heatmap and Contour Plot"
   ]
  },
  {
   "cell_type": "code",
   "execution_count": null,
   "id": "7a59f6a7-27c0-49f4-97cc-9e7a873478bd",
   "metadata": {},
   "outputs": [],
   "source": [
    "F = np.random.uniform(0, 1, (10, 10))\n",
    "\n",
    "plt.figure(figsize=(10,5))\n",
    "\n",
    "ax1 = plt.subplot(1,2,1)\n",
    "plt.imshow(F, extent=[0, len(F), 0, len(F)])\n",
    "ax1.set_aspect(\"equal\", \"box\")\n",
    "\n",
    "ax2 = plt.subplot(1,2,2, sharey=ax1)\n",
    "plt.contourf(F, extent=[0, len(F), 0, len(F)])\n",
    "ax2.set_aspect(\"equal\", \"box\")\n",
    "plt.show()"
   ]
  },
  {
   "cell_type": "markdown",
   "id": "0c65fcfb-3944-4279-9a49-d9b93c426ed2",
   "metadata": {},
   "source": [
    "## Box- and Violinplot"
   ]
  },
  {
   "cell_type": "code",
   "execution_count": null,
   "id": "e0250b20-9417-44ad-aca3-a3f8871ecccf",
   "metadata": {},
   "outputs": [],
   "source": [
    "G = np.random.normal(75,5, (200, 3))\n",
    "\n",
    "plt.figure()\n",
    "plt.boxplot(G)\n",
    "plt.violinplot(G)\n",
    "plt.show()"
   ]
  },
  {
   "cell_type": "markdown",
   "id": "12e2caa5",
   "metadata": {},
   "source": [
    "## The Object-Oriented Approach"
   ]
  },
  {
   "cell_type": "code",
   "execution_count": null,
   "id": "e6f4d758-02c0-48d2-8d45-82ea6fb1836b",
   "metadata": {},
   "outputs": [],
   "source": [
    "First_Class = abs(np.random.normal(58, 9, 100))\n",
    "Business_Class = abs(np.random.normal(50, 10, 400))\n",
    "Economy_Class = abs(np.random.normal(35, 15, 1500))\n",
    "Bins = np.arange(0,100,5)"
   ]
  },
  {
   "cell_type": "code",
   "execution_count": null,
   "id": "e31c90ff",
   "metadata": {},
   "outputs": [],
   "source": [
    "fig, axs = plt.subplots(1,3, figsize = (10,4), sharex=True, sharey=True)\n",
    "axs[0].hist(Economy_Class, bins=Bins, color=\"blue\")\n",
    "axs[1].hist(Business_Class, bins=Bins, color=\"green\")\n",
    "axs[2].hist(First_Class, bins=Bins, color=\"red\")\n",
    "\n",
    "axs[0].set_title(\"Economy Class\")\n",
    "axs[1].set_title(\"Business Class\")\n",
    "axs[2].set_title(\"First Class\")\n",
    "\n",
    "axs[1].set_xlabel(\"Age\")\n",
    "axs[0].set_ylabel(\"Number of Passengers\")\n",
    "\n",
    "plt.tight_layout()\n",
    "plt.show()"
   ]
  },
  {
   "cell_type": "markdown",
   "id": "bced698e-ba90-4a1f-9a88-a3ab333f8b5f",
   "metadata": {},
   "source": [
    "## Hands-on Challenge\n",
    "\n",
    "Try to replicate the two plots as well as possible. The necessary input data is provided."
   ]
  },
  {
   "cell_type": "markdown",
   "id": "952a0a8a-b071-4118-adf6-7865d804f0b9",
   "metadata": {},
   "source": [
    "### Challenge 1\n",
    "\n",
    "<img src=\"images/hands_on_1.png\" align=\"bottom\" width=\"50%\">"
   ]
  },
  {
   "cell_type": "code",
   "execution_count": null,
   "id": "9963684c-642a-4e41-afb7-59265b07af9b",
   "metadata": {},
   "outputs": [],
   "source": [
    "First_Class = abs(np.random.normal(58, 9, 100))\n",
    "Business_Class = abs(np.random.normal(50, 10, 400))\n",
    "Economy_Class = abs(np.random.normal(35, 15, 1500))\n",
    "Bins = np.arange(0,100,5)"
   ]
  },
  {
   "cell_type": "code",
   "execution_count": null,
   "id": "09037f3f-8e70-4604-b622-43d5b05bcbcc",
   "metadata": {},
   "outputs": [],
   "source": [
    "# It's your turn to code:\n"
   ]
  },
  {
   "cell_type": "markdown",
   "id": "4bd27332-551a-4dc1-a4db-0845c1a95be7",
   "metadata": {},
   "source": [
    "#### Solution"
   ]
  },
  {
   "cell_type": "code",
   "execution_count": null,
   "id": "cc62b052-6612-4f46-9621-7c276a47e164",
   "metadata": {
    "jupyter": {
     "source_hidden": true
    },
    "tags": []
   },
   "outputs": [],
   "source": [
    "plt.figure(figsize=(6,6))\n",
    "\n",
    "plt.hist(Economy_Class, bins=Bins, label=\"Economy Class\")\n",
    "plt.hist(Business_Class, bins=Bins, label=\"Business Class\")\n",
    "plt.hist(First_Class, bins=Bins, label=\"First Class\")\n",
    "\n",
    "plt.xticks([0,10,20,30,40,50,60,70,80,90,100])\n",
    "plt.xlim(0,100)\n",
    "plt.xlabel(\"Passenger Age\")\n",
    "plt.ylabel(\"Passenger Count\")\n",
    "\n",
    "plt.title(\"Airline Passenger Distribution\", fontsize=16)\n",
    "plt.legend(loc=\"center right\")\n",
    "\n",
    "plt.savefig(\"hands_on_1.png\", dpi=150)\n",
    "plt.show()"
   ]
  },
  {
   "cell_type": "markdown",
   "id": "4e3460cd-1bd0-4827-92fc-7d680aa54739",
   "metadata": {},
   "source": [
    "### Challenge 2\n",
    "\n",
    "<img src=\"images/hands_on_2.png\" align=\"bottom\" width=\"85%\">"
   ]
  },
  {
   "cell_type": "code",
   "execution_count": null,
   "id": "0bf2a53b-b2bb-4b11-a148-84dcb95d72a7",
   "metadata": {},
   "outputs": [],
   "source": [
    "X = np.linspace(-3, 3)\n",
    "F1, F2, F3 = X, X**2, X**3"
   ]
  },
  {
   "cell_type": "code",
   "execution_count": null,
   "id": "d42a94e5-069b-405b-ad71-d0083d05c98e",
   "metadata": {},
   "outputs": [],
   "source": [
    "# It's your turn to code:\n"
   ]
  },
  {
   "cell_type": "markdown",
   "id": "7f494d62-268a-4416-95c0-fb3604aaf193",
   "metadata": {},
   "source": [
    "#### Solution"
   ]
  },
  {
   "cell_type": "code",
   "execution_count": null,
   "id": "61286356-eade-4a71-b692-3ed543005b9e",
   "metadata": {
    "jupyter": {
     "source_hidden": true
    },
    "tags": []
   },
   "outputs": [],
   "source": [
    "plt.figure(figsize = (14,5))\n",
    "plt.suptitle(\"Some Functions\", fontsize = 16)\n",
    "\n",
    "ax_1 = plt.subplot(1,3,1, xlim=(-3, 3), ylim=(-15, 15))\n",
    "plt.plot(X, F1, color = \"black\", linewidth = 3)\n",
    "plt.title(\"linear\")\n",
    "ax_1.set_facecolor(\"red\")\n",
    "\n",
    "ax_2 = plt.subplot(1,3,2, sharex=ax_1, sharey=ax_1)\n",
    "plt.plot(X, F2, color = \"black\", linestyle = \"--\", linewidth = 3)\n",
    "plt.title(\"quadratic\")\n",
    "ax_2.set_facecolor(\"yellow\")\n",
    "\n",
    "ax_3 = plt.subplot(1,3,3,  sharex=ax_1, sharey=ax_1)\n",
    "plt.plot(X, F3, color = \"black\", linestyle = \":\", linewidth = 3)\n",
    "plt.title(\"cubic\")\n",
    "ax_3.set_facecolor(\"blue\")\n",
    "\n",
    "\n",
    "plt.tight_layout()\n",
    "plt.savefig(\"hands_on_2.png\", dpi=150)\n",
    "plt.show()"
   ]
  }
 ],
 "metadata": {
  "kernelspec": {
   "display_name": "Python 3 (ipykernel)",
   "language": "python",
   "name": "python3"
  },
  "language_info": {
   "codemirror_mode": {
    "name": "ipython",
    "version": 3
   },
   "file_extension": ".py",
   "mimetype": "text/x-python",
   "name": "python",
   "nbconvert_exporter": "python",
   "pygments_lexer": "ipython3",
   "version": "3.9.12"
  }
 },
 "nbformat": 4,
 "nbformat_minor": 5
}
